{
 "cells": [
  {
   "cell_type": "markdown",
   "id": "2788db1f-3b58-4aa4-b36a-d518cfb6913d",
   "metadata": {},
   "source": [
    "# Data Science Tools and Ecosystem"
   ]
  },
  {
   "cell_type": "markdown",
   "id": "d590c8e8-2cf4-429b-a0e2-3a76759f73a9",
   "metadata": {},
   "source": [
    "In this notebook, Data Science Tools and Ecosystem are summarized."
   ]
  },
  {
   "cell_type": "markdown",
   "id": "5a866f3d-79de-4bcd-9973-17cf50b050c1",
   "metadata": {},
   "source": [
    "Some of the popular languages that Data Science use are:\n",
    "1. Python\n",
    "2. R\n",
    "3. SQL\n",
    "4. Julia\n",
    "5. Java\n",
    "6. Scala\n",
    "7. C++"
   ]
  },
  {
   "cell_type": "markdown",
   "id": "52cc25c6-2558-4291-83cc-2e87f1af4451",
   "metadata": {},
   "source": [
    "Some of the commonly used libraries used by Data Scientists include:\n",
    "1. Pandas\n",
    "2. NumPy\n",
    "3. Matplotlib\n",
    "4. Seaborn\n",
    "5. Scikit-learn\n",
    "6. ggplot2"
   ]
  },
  {
   "cell_type": "markdown",
   "id": "32ee7d86-ad77-4c14-92f8-3fbe6112da94",
   "metadata": {},
   "source": [
    "| Data Science Tools |\n",
    "| ------------------ |\n",
    "| Jupyter Notebook |\n",
    "| Apache Spark |\n",
    "| R Studio |\n",
    "| Apache Zeppelin "
   ]
  },
  {
   "cell_type": "markdown",
   "id": "ec92ee56-177d-475f-85a4-443812ef9bdc",
   "metadata": {},
   "source": [
    "### Below are a few examples of evaluating arithmetic expression examples"
   ]
  },
  {
   "cell_type": "code",
   "execution_count": 4,
   "id": "0d4c8aa2-87f5-4c9d-bd6b-0cc24e8dd71c",
   "metadata": {},
   "outputs": [
    {
     "data": {
      "text/plain": [
       "17"
      ]
     },
     "execution_count": 4,
     "metadata": {},
     "output_type": "execute_result"
    }
   ],
   "source": [
    "# This is a simple arithmetic expression to multiply then add integers.\n",
    "(3*4)+5"
   ]
  },
  {
   "cell_type": "code",
   "execution_count": 5,
   "id": "096bdd51-2cd2-4343-bcf6-4188a48762c7",
   "metadata": {},
   "outputs": [
    {
     "data": {
      "text/plain": [
       "3.3333333333333335"
      ]
     },
     "execution_count": 5,
     "metadata": {},
     "output_type": "execute_result"
    }
   ],
   "source": [
    "# This will convert 200 minutes to hours by dividing by 60.\n",
    "200/60"
   ]
  },
  {
   "cell_type": "markdown",
   "id": "c775ee4a-4342-4b12-8483-56386b5a8452",
   "metadata": {},
   "source": [
    "<b> Objectives\n",
    "- List Data Science Lanuages\n",
    "- List Data Science Libraries\n",
    "- List Data Science Open Source Tools\n",
    "- Write arithmetic expressions"
   ]
  },
  {
   "cell_type": "markdown",
   "id": "cdbbed5d-06f4-43c7-b948-942d7c948168",
   "metadata": {},
   "source": [
    "## Author\n",
    "Anna Kepas-Suwara"
   ]
  },
  {
   "cell_type": "code",
   "execution_count": null,
   "id": "d9ffa30d-f483-4799-9038-5f1a56c92701",
   "metadata": {},
   "outputs": [],
   "source": []
  }
 ],
 "metadata": {
  "kernelspec": {
   "display_name": "Python 3 (ipykernel)",
   "language": "python",
   "name": "python3"
  },
  "language_info": {
   "codemirror_mode": {
    "name": "ipython",
    "version": 3
   },
   "file_extension": ".py",
   "mimetype": "text/x-python",
   "name": "python",
   "nbconvert_exporter": "python",
   "pygments_lexer": "ipython3",
   "version": "3.11.9"
  }
 },
 "nbformat": 4,
 "nbformat_minor": 5
}
